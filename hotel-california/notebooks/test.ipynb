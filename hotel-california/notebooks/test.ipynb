{
 "cells": [
  {
   "cell_type": "code",
   "execution_count": 20,
   "id": "f0d60c03-cbc8-4f55-a042-e2e03c2791fa",
   "metadata": {
    "execution": {
     "iopub.execute_input": "2025-06-18T18:51:13.901429Z",
     "iopub.status.busy": "2025-06-18T18:51:13.900888Z",
     "iopub.status.idle": "2025-06-18T18:51:13.931164Z",
     "shell.execute_reply": "2025-06-18T18:51:13.929848Z",
     "shell.execute_reply.started": "2025-06-18T18:51:13.901404Z"
    }
   },
   "outputs": [
    {
     "ename": "ModuleNotFoundError",
     "evalue": "No module named 'kedro.extras'",
     "output_type": "error",
     "traceback": [
      "\u001b[31m---------------------------------------------------------------------------\u001b[39m",
      "\u001b[31mModuleNotFoundError\u001b[39m                       Traceback (most recent call last)",
      "\u001b[36mCell\u001b[39m\u001b[36m \u001b[39m\u001b[32mIn[20]\u001b[39m\u001b[32m, line 1\u001b[39m\n\u001b[32m----> \u001b[39m\u001b[32m1\u001b[39m \u001b[38;5;28;01mfrom\u001b[39;00m\u001b[38;5;250m \u001b[39m\u001b[34;01mkedro\u001b[39;00m\u001b[34;01m.\u001b[39;00m\u001b[34;01mextras\u001b[39;00m\u001b[34;01m.\u001b[39;00m\u001b[34;01mdatasets\u001b[39;00m\u001b[34;01m.\u001b[39;00m\u001b[34;01mpandas\u001b[39;00m\u001b[38;5;250m \u001b[39m\u001b[38;5;28;01mimport\u001b[39;00m CSVDataSet\n",
      "\u001b[31mModuleNotFoundError\u001b[39m: No module named 'kedro.extras'"
     ]
    }
   ],
   "source": [
    "from kedro.extras.datasets.pandas import CSVDataSet"
   ]
  },
  {
   "cell_type": "code",
   "execution_count": 21,
   "id": "86bc9972-39e3-41fa-b3d2-36cb938e0dad",
   "metadata": {
    "execution": {
     "iopub.execute_input": "2025-06-18T18:51:25.510274Z",
     "iopub.status.busy": "2025-06-18T18:51:25.509950Z",
     "iopub.status.idle": "2025-06-18T18:51:27.368674Z",
     "shell.execute_reply": "2025-06-18T18:51:27.367682Z",
     "shell.execute_reply.started": "2025-06-18T18:51:25.510249Z"
    },
    "scrolled": true
   },
   "outputs": [
    {
     "name": "stdout",
     "output_type": "stream",
     "text": [
      "Name: kedro-datasets\n",
      "Version: 7.0.0\n",
      "Summary: Kedro-Datasets is where you can find all of Kedro's data connectors.\n",
      "Home-page: \n",
      "Author: Kedro\n",
      "Author-email: \n",
      "License: Apache Software License (Apache 2.0)\n",
      "Location: /Users/antoniooliveira/Documents/GitHub/mlops_project_v2/.venv/lib/python3.11/site-packages\n",
      "Requires: kedro, lazy_loader\n",
      "Required-by: \n"
     ]
    }
   ],
   "source": [
    "!pip show kedro-datasets\n"
   ]
  },
  {
   "cell_type": "code",
   "execution_count": 18,
   "id": "92ba458c-bcc6-42a0-b42d-900ab320ab54",
   "metadata": {
    "execution": {
     "iopub.execute_input": "2025-06-18T18:50:27.418308Z",
     "iopub.status.busy": "2025-06-18T18:50:27.417959Z",
     "iopub.status.idle": "2025-06-18T18:50:30.663882Z",
     "shell.execute_reply": "2025-06-18T18:50:30.662425Z",
     "shell.execute_reply.started": "2025-06-18T18:50:27.418282Z"
    }
   },
   "outputs": [
    {
     "name": "stdout",
     "output_type": "stream",
     "text": [
      "\u001b[2;36m[06/18/25 19:50:28]\u001b[0m\u001b[2;36m \u001b[0m\u001b[34mINFO    \u001b[0m Using                               \u001b]8;id=196825;file:///Users/antoniooliveira/Documents/GitHub/mlops_project_v2/.venv/lib/python3.11/site-packages/kedro/framework/project/__init__.py\u001b\\\u001b[2m__init__.py\u001b[0m\u001b]8;;\u001b\\\u001b[2m:\u001b[0m\u001b]8;id=977545;file:///Users/antoniooliveira/Documents/GitHub/mlops_project_v2/.venv/lib/python3.11/site-packages/kedro/framework/project/__init__.py#272\u001b\\\u001b[2m272\u001b[0m\u001b]8;;\u001b\\\n",
      "\u001b[2;36m                    \u001b[0m         \u001b[32m'/Users/antoniooliveira/Documents/G\u001b[0m \u001b[2m               \u001b[0m\n",
      "\u001b[2;36m                    \u001b[0m         \u001b[32mitHub/mlops_project_v2/.venv/lib/py\u001b[0m \u001b[2m               \u001b[0m\n",
      "\u001b[2;36m                    \u001b[0m         \u001b[32mthon3.11/site-packages/kedro/framew\u001b[0m \u001b[2m               \u001b[0m\n",
      "\u001b[2;36m                    \u001b[0m         \u001b[32mork/project/rich_logging.yml'\u001b[0m as    \u001b[2m               \u001b[0m\n",
      "\u001b[2;36m                    \u001b[0m         logging configuration.              \u001b[2m               \u001b[0m\n",
      "kedro, version 0.19.14\n",
      "\u001b[2;36m[06/18/25 19:50:29]\u001b[0m\u001b[2;36m \u001b[0m\u001b[34mINFO    \u001b[0m Kedro is sending anonymous usage data \u001b]8;id=386835;file:///Users/antoniooliveira/Documents/GitHub/mlops_project_v2/.venv/lib/python3.11/site-packages/kedro_telemetry/plugin.py\u001b\\\u001b[2mplugin.py\u001b[0m\u001b]8;;\u001b\\\u001b[2m:\u001b[0m\u001b]8;id=899974;file:///Users/antoniooliveira/Documents/GitHub/mlops_project_v2/.venv/lib/python3.11/site-packages/kedro_telemetry/plugin.py#233\u001b\\\u001b[2m233\u001b[0m\u001b]8;;\u001b\\\n",
      "\u001b[2;36m                    \u001b[0m         with the sole purpose of improving    \u001b[2m             \u001b[0m\n",
      "\u001b[2;36m                    \u001b[0m         the product. No personal data or IP   \u001b[2m             \u001b[0m\n",
      "\u001b[2;36m                    \u001b[0m         addresses are stored on our side. If  \u001b[2m             \u001b[0m\n",
      "\u001b[2;36m                    \u001b[0m         you want to opt out, set the          \u001b[2m             \u001b[0m\n",
      "\u001b[2;36m                    \u001b[0m         `KEDRO_DISABLE_TELEMETRY` or          \u001b[2m             \u001b[0m\n",
      "\u001b[2;36m                    \u001b[0m         `DO_NOT_TRACK` environment variables, \u001b[2m             \u001b[0m\n",
      "\u001b[2;36m                    \u001b[0m         or create a `.telemetry` file in the  \u001b[2m             \u001b[0m\n",
      "\u001b[2;36m                    \u001b[0m         current working directory with the    \u001b[2m             \u001b[0m\n",
      "\u001b[2;36m                    \u001b[0m         contents `consent: false`. Read more  \u001b[2m             \u001b[0m\n",
      "\u001b[2;36m                    \u001b[0m         at                                    \u001b[2m             \u001b[0m\n",
      "\u001b[2;36m                    \u001b[0m         \u001b[4;94mhttps://docs.kedro.org/en/stable/conf\u001b[0m \u001b[2m             \u001b[0m\n",
      "\u001b[2;36m                    \u001b[0m         \u001b[4;94miguration/telemetry.html\u001b[0m              \u001b[2m             \u001b[0m\n"
     ]
    }
   ],
   "source": [
    "!kedro --version"
   ]
  },
  {
   "cell_type": "code",
   "execution_count": null,
   "id": "721d321e-1636-47e3-9ebd-f3bf6a3bc5cc",
   "metadata": {},
   "outputs": [],
   "source": []
  }
 ],
 "metadata": {
  "kernelspec": {
   "display_name": "Python 3 (ipykernel)",
   "language": "python",
   "name": "python3"
  },
  "language_info": {
   "codemirror_mode": {
    "name": "ipython",
    "version": 3
   },
   "file_extension": ".py",
   "mimetype": "text/x-python",
   "name": "python",
   "nbconvert_exporter": "python",
   "pygments_lexer": "ipython3",
   "version": "3.11.6"
  }
 },
 "nbformat": 4,
 "nbformat_minor": 5
}
